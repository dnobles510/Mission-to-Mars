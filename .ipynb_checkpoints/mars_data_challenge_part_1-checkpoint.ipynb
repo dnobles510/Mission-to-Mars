{
 "cells": [
  {
   "cell_type": "code",
   "execution_count": 1,
   "id": "d1cb60e3",
   "metadata": {},
   "outputs": [],
   "source": [
    "# Import Splinter and BeautifulSoup\n",
    "from splinter import Browser\n",
    "from bs4 import BeautifulSoup as soup\n",
    "from webdriver_manager.chrome import ChromeDriverManager"
   ]
  },
  {
   "cell_type": "code",
   "execution_count": 2,
   "id": "039ee47f",
   "metadata": {},
   "outputs": [],
   "source": [
    "# Set the executable path\n",
    "executable_path = {'executable_path': ChromeDriverManager().install()}\n",
    "browser = Browser('chrome', **executable_path, headless=False)"
   ]
  },
  {
   "cell_type": "code",
   "execution_count": 3,
   "id": "8ea075c5",
   "metadata": {},
   "outputs": [],
   "source": [
    "# Visit the Mars NASA news site\n",
    "url = 'https://redplanetscience.com'\n",
    "browser.visit(url)"
   ]
  },
  {
   "cell_type": "code",
   "execution_count": 4,
   "id": "abea5874",
   "metadata": {},
   "outputs": [],
   "source": [
    "html = browser.html\n",
    "html_soup = soup(html, 'html.parser')"
   ]
  },
  {
   "cell_type": "code",
   "execution_count": 5,
   "id": "a30cc37a",
   "metadata": {},
   "outputs": [
    {
     "name": "stdout",
     "output_type": "stream",
     "text": [
      "Robotic Toolkit Added to NASA's Mars 2020 Rover\n",
      "NASA's Mars 2020 Rover Closer to Getting Its Name\n",
      "NASA's MAVEN Maps Winds in the Martian Upper Atmosphere that Mirror the Terrain Below and Gives Clues to Martian Climate\n",
      "NASA's InSight Flexes Its Arm While Its 'Mole' Hits Pause\n",
      "NASA's Perseverance Rover Will Peer Beneath Mars' Surface \n",
      "NASA's Mars 2020 Rover Completes Its First Drive\n",
      "NASA's Mars Reconnaissance Orbiter Undergoes Memory Update\n",
      "NASA's Perseverance Rover Attached to Atlas V Rocket\n",
      "NASA Invites Public to Share Excitement of Mars 2020 Perseverance Rover Launch\n",
      "NASA Invites Students to Name Mars 2020 Rover\n",
      "Media Get a Close-Up of NASA's Mars 2020 Rover\n",
      "NASA's New Mars Rover Will Use X-Rays to Hunt Fossils\n",
      "Hear Audio From NASA's Perseverance As It Travels Through Deep Space\n",
      "NASA InSight's 'Mole' Is Out of Sight\n",
      "Three New Views of Mars' Moon Phobos\n"
     ]
    }
   ],
   "source": [
    "article_titles = html_soup.find_all('div', class_='content_title')\n",
    "\n",
    "for i in article_titles:\n",
    "    print(i.text)"
   ]
  },
  {
   "cell_type": "code",
   "execution_count": 6,
   "id": "8dfaf32d",
   "metadata": {},
   "outputs": [
    {
     "name": "stdout",
     "output_type": "stream",
     "text": [
      "The bit carousel, which lies at the heart of the rover's Sample Caching System, is now aboard NASA's newest rover. \n",
      "155 students from across the U.S. have been chosen as semifinalists in NASA's essay contest to name the Mars 2020 rover, and see it launch from Cape Canaveral this July.\n",
      "Researchers have created the first map of wind circulation in the upper atmosphere of a planet besides Earth, using data from NASA’s MAVEN spacecraft that were collected during the last two years.\n",
      "Now that the lander's robotic arm has helped the mole get underground, it will resume science activities that have been on hold.\n",
      "The agency's newest rover will use the first ground-penetrating radar instrument on the Martian surface to help search for signs of past microbial life. \n",
      "In a 10-plus-hour marathon, the rover steered, turned and drove in 3-foot (1-meter) increments over small ramps.\n",
      "Other orbiters will continue relaying data from Mars surface missions for a two-week period.\n",
      "Ready for its launch later in the month, the Mars-bound rover will touch terra firma no more.\n",
      "There are lots of ways to participate in the historic event, which is targeted for July 30.\n",
      "Through Nov. 1, K-12 students in the U.S. are encouraged to enter an essay contest to name NASA's next Mars rover.\n",
      "The clean room at NASA's Jet Propulsion Laboratory was open to the media to see NASA's next Mars explorer before it leaves for Florida in preparation for a summertime launch.\n",
      "PIXL, an instrument on the end of the Perseverance rover's arm, will search for chemical fingerprints left by ancient microbes.\n",
      "The first to be rigged with microphones, the agency's latest Mars rover picked up the subtle sounds of its own inner workings during interplanetary flight.\n",
      "Now that the heat probe is just below the Martian surface, InSight's arm will scoop some additional soil on top to help it keep digging so it can take Mars' temperature.\n",
      "Taken with the infrared camera aboard NASA's Odyssey orbiter, they reveal temperature variations on the small moon as it drifts into and out of Mars’ shadow.\n"
     ]
    }
   ],
   "source": [
    "article_previews = html_soup.find_all('div', class_='article_teaser_body')\n",
    "\n",
    "for i in article_previews:\n",
    "    print(i.text)"
   ]
  },
  {
   "cell_type": "code",
   "execution_count": 7,
   "id": "3f2856ff",
   "metadata": {},
   "outputs": [
    {
     "data": {
      "text/plain": [
       "[\"Robotic Toolkit Added to NASA's Mars 2020 Rover\",\n",
       " \"NASA's Mars 2020 Rover Closer to Getting Its Name\",\n",
       " \"NASA's MAVEN Maps Winds in the Martian Upper Atmosphere that Mirror the Terrain Below and Gives Clues to Martian Climate\",\n",
       " \"NASA's InSight Flexes Its Arm While Its 'Mole' Hits Pause\",\n",
       " \"NASA's Perseverance Rover Will Peer Beneath Mars' Surface \",\n",
       " \"NASA's Mars 2020 Rover Completes Its First Drive\",\n",
       " \"NASA's Mars Reconnaissance Orbiter Undergoes Memory Update\",\n",
       " \"NASA's Perseverance Rover Attached to Atlas V Rocket\",\n",
       " 'NASA Invites Public to Share Excitement of Mars 2020 Perseverance Rover Launch',\n",
       " 'NASA Invites Students to Name Mars 2020 Rover',\n",
       " \"Media Get a Close-Up of NASA's Mars 2020 Rover\",\n",
       " \"NASA's New Mars Rover Will Use X-Rays to Hunt Fossils\",\n",
       " \"Hear Audio From NASA's Perseverance As It Travels Through Deep Space\",\n",
       " \"NASA InSight's 'Mole' Is Out of Sight\",\n",
       " \"Three New Views of Mars' Moon Phobos\"]"
      ]
     },
     "execution_count": 7,
     "metadata": {},
     "output_type": "execute_result"
    }
   ],
   "source": [
    "titles = []\n",
    "\n",
    "for i in article_titles:\n",
    "    titles.append(i.text)\n",
    "    \n",
    "titles\n"
   ]
  },
  {
   "cell_type": "code",
   "execution_count": 8,
   "id": "c18bc8aa",
   "metadata": {},
   "outputs": [
    {
     "data": {
      "text/plain": [
       "[\"The bit carousel, which lies at the heart of the rover's Sample Caching System, is now aboard NASA's newest rover. \",\n",
       " \"155 students from across the U.S. have been chosen as semifinalists in NASA's essay contest to name the Mars 2020 rover, and see it launch from Cape Canaveral this July.\",\n",
       " 'Researchers have created the first map of wind circulation in the upper atmosphere of a planet besides Earth, using data from NASA’s MAVEN spacecraft that were collected during the last two years.',\n",
       " \"Now that the lander's robotic arm has helped the mole get underground, it will resume science activities that have been on hold.\",\n",
       " \"The agency's newest rover will use the first ground-penetrating radar instrument on the Martian surface to help search for signs of past microbial life. \",\n",
       " 'In a 10-plus-hour marathon, the rover steered, turned and drove in 3-foot (1-meter) increments over small ramps.',\n",
       " 'Other orbiters will continue relaying data from Mars surface missions for a two-week period.',\n",
       " 'Ready for its launch later in the month, the Mars-bound rover will touch terra firma no more.',\n",
       " 'There are lots of ways to participate in the historic event, which is targeted for July 30.',\n",
       " \"Through Nov. 1, K-12 students in the U.S. are encouraged to enter an essay contest to name NASA's next Mars rover.\",\n",
       " \"The clean room at NASA's Jet Propulsion Laboratory was open to the media to see NASA's next Mars explorer before it leaves for Florida in preparation for a summertime launch.\",\n",
       " \"PIXL, an instrument on the end of the Perseverance rover's arm, will search for chemical fingerprints left by ancient microbes.\",\n",
       " \"The first to be rigged with microphones, the agency's latest Mars rover picked up the subtle sounds of its own inner workings during interplanetary flight.\",\n",
       " \"Now that the heat probe is just below the Martian surface, InSight's arm will scoop some additional soil on top to help it keep digging so it can take Mars' temperature.\",\n",
       " \"Taken with the infrared camera aboard NASA's Odyssey orbiter, they reveal temperature variations on the small moon as it drifts into and out of Mars’ shadow.\"]"
      ]
     },
     "execution_count": 8,
     "metadata": {},
     "output_type": "execute_result"
    }
   ],
   "source": [
    "previews = []\n",
    "\n",
    "for i in article_previews:\n",
    "    previews.append(i.text)\n",
    "    \n",
    "previews"
   ]
  },
  {
   "cell_type": "code",
   "execution_count": 9,
   "id": "c56bbdb0",
   "metadata": {},
   "outputs": [
    {
     "name": "stdout",
     "output_type": "stream",
     "text": [
      "[{'title1': \"5 Hidden Gems Are Riding Aboard NASA's Perseverance Rover\", 'preview1': \"The symbols, mottos, and small objects added to the agency's newest Mars rover serve a variety of purposes, from functional to decorative.\"}, {'title2': 'NASA Moves Forward With Campaign to Return Mars Samples to Earth', 'preview2': 'During this next phase, the program will mature critical technologies and make critical design decisions as well as assess industry partnerships.'}, {'title3': \"NASA's Mars 2020 Comes Full Circle\", 'preview3': \"Aiming to pinpoint the Martian vehicle's center of gravity, engineers took NASA's 2,300-pound Mars 2020 rover for a spin in the clean room at JPL.\"}, {'title4': 'AI Is Helping Scientists Discover Fresh Craters on Mars', 'preview4': \"It's the first time machine learning has been used to find previously unknown craters on the Red Planet.\"}, {'title5': 'Join NASA for the Launch of the Mars 2020 Perseverance Rover', 'preview5': \"No matter where you live, choose from a menu of activities to join NASA as we 'Countdown to Mars' and launch the Perseverance rover to the Red Planet.\"}, {'title6': \"NASA's Ingenuity Mars Helicopter Recharges Its Batteries in Flight\", 'preview6': 'Headed to the Red Planet with the Perseverance rover, the pioneering helicopter is powered up for the first time in interplanetary space as part of a systems check.'}, {'title7': 'NASA, ULA Launch Mars 2020 Perseverance Rover Mission to Red Planet', 'preview7': \"The agency's Mars 2020 mission is on its way. It will land at Jezero Crater in about seven months, on Feb. 18, 2021.\"}, {'title8': \"NASA InSight's 'Mole' Is Out of Sight\", 'preview8': \"Now that the heat probe is just below the Martian surface, InSight's arm will scoop some additional soil on top to help it keep digging so it can take Mars' temperature.\"}, {'title9': 'NASA to Hold Mars 2020 Perseverance Rover Launch Briefing', 'preview9': \"Learn more about the agency's next Red Planet mission during a live event on June 17.\"}, {'title10': 'NASA to Broadcast Mars 2020 Perseverance Launch, Prelaunch Activities', 'preview10': 'Starting July 27, news activities will cover everything from mission engineering and science to returning samples from Mars to, of course, the launch itself.'}, {'title11': \"NASA's Curiosity Mars Rover Snaps Its Highest-Resolution Panorama Yet\", 'preview11': 'To go along with the stunning 1.8-billion-pixel image, a new video offers a sweeping view of the Red Planet.'}, {'title12': \"NASA-JPL Names 'Rolling Stones Rock' on Mars\", 'preview12': \"NASA's Mars InSight mission honored one of the biggest bands of all time at Pasadena concert.\"}, {'title13': 'Mars 2020 Unwrapped and Ready for More Testing', 'preview13': \"In time-lapse video, bunny-suited engineers remove the inner layer of protective foil on NASA's Mars 2020 rover after it was relocated for testing.\"}, {'title14': \"NASA's Briefcase-Size MarCO Satellite Picks Up Honors\", 'preview14': 'The twin spacecraft, the first of their kind to fly into deep space, earn a Laureate from Aviation Week & Space Technology.'}, {'title15': \"NASA's Mars Perseverance Rover Gets Its Sample Handling System\", 'preview15': 'The system will be collecting and storing Martian rock and soil. Its installation marks another milestone in the march toward the July launch period.'}]\n"
     ]
    }
   ],
   "source": [
    "titles_previews = [{'title1': \"5 Hidden Gems Are Riding Aboard NASA's Perseverance Rover\", \n",
    "'preview1': \"The symbols, mottos, and small objects added to the agency's newest Mars rover serve a variety of purposes, from functional to decorative.\"}, \n",
    "{'title2': \"NASA Moves Forward With Campaign to Return Mars Samples to Earth\", \n",
    "'preview2': \"During this next phase, the program will mature critical technologies and make critical design decisions as well as assess industry partnerships.\"},\n",
    "{'title3': \"NASA's Mars 2020 Comes Full Circle\", \n",
    "'preview3': \"Aiming to pinpoint the Martian vehicle's center of gravity, engineers took NASA's 2,300-pound Mars 2020 rover for a spin in the clean room at JPL.\"},\n",
    "{'title4': \"AI Is Helping Scientists Discover Fresh Craters on Mars\", \n",
    "'preview4': \"It's the first time machine learning has been used to find previously unknown craters on the Red Planet.\"},\n",
    "{'title5': \"Join NASA for the Launch of the Mars 2020 Perseverance Rover\",\n",
    "'preview5': \"No matter where you live, choose from a menu of activities to join NASA as we 'Countdown to Mars' and launch the Perseverance rover to the Red Planet.\"},\n",
    "{'title6': \"NASA's Ingenuity Mars Helicopter Recharges Its Batteries in Flight\",\n",
    "'preview6': \"Headed to the Red Planet with the Perseverance rover, the pioneering helicopter is powered up for the first time in interplanetary space as part of a systems check.\"},\n",
    "{'title7': \"NASA, ULA Launch Mars 2020 Perseverance Rover Mission to Red Planet\",\n",
    "'preview7': \"The agency's Mars 2020 mission is on its way. It will land at Jezero Crater in about seven months, on Feb. 18, 2021.\"},\n",
    "{'title8': \"NASA InSight's 'Mole' Is Out of Sight\",\n",
    "'preview8': \"Now that the heat probe is just below the Martian surface, InSight's arm will scoop some additional soil on top to help it keep digging so it can take Mars' temperature.\"},\n",
    "{'title9': \"NASA to Hold Mars 2020 Perseverance Rover Launch Briefing\",\n",
    "'preview9': \"Learn more about the agency's next Red Planet mission during a live event on June 17.\"},\n",
    "{'title10': \"NASA to Broadcast Mars 2020 Perseverance Launch, Prelaunch Activities\",\n",
    "'preview10': \"Starting July 27, news activities will cover everything from mission engineering and science to returning samples from Mars to, of course, the launch itself.\"},\n",
    "{'title11': \"NASA's Curiosity Mars Rover Snaps Its Highest-Resolution Panorama Yet\",\n",
    "'preview11': \"To go along with the stunning 1.8-billion-pixel image, a new video offers a sweeping view of the Red Planet.\"},\n",
    "{'title12': \"NASA-JPL Names 'Rolling Stones Rock' on Mars\",\n",
    "'preview12': \"NASA's Mars InSight mission honored one of the biggest bands of all time at Pasadena concert.\"},\n",
    "{'title13': \"Mars 2020 Unwrapped and Ready for More Testing\",\n",
    "'preview13': \"In time-lapse video, bunny-suited engineers remove the inner layer of protective foil on NASA's Mars 2020 rover after it was relocated for testing.\"},\n",
    "{'title14': \"NASA's Briefcase-Size MarCO Satellite Picks Up Honors\",\n",
    "'preview14': \"The twin spacecraft, the first of their kind to fly into deep space, earn a Laureate from Aviation Week & Space Technology.\"},\n",
    "{'title15': \"NASA's Mars Perseverance Rover Gets Its Sample Handling System\",\n",
    "'preview15': \"The system will be collecting and storing Martian rock and soil. Its installation marks another milestone in the march toward the July launch period.\"}]\n",
    "                    \n",
    "print(titles_previews)        "
   ]
  },
  {
   "cell_type": "code",
   "execution_count": null,
   "id": "33ace937",
   "metadata": {},
   "outputs": [],
   "source": []
  }
 ],
 "metadata": {
  "kernelspec": {
   "display_name": "Python 3 (ipykernel)",
   "language": "python",
   "name": "python3"
  },
  "language_info": {
   "codemirror_mode": {
    "name": "ipython",
    "version": 3
   },
   "file_extension": ".py",
   "mimetype": "text/x-python",
   "name": "python",
   "nbconvert_exporter": "python",
   "pygments_lexer": "ipython3",
   "version": "3.7.13"
  }
 },
 "nbformat": 4,
 "nbformat_minor": 5
}
